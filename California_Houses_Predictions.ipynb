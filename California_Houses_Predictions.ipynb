{
  "metadata": {
    "kernelspec": {
      "display_name": "Python 3",
      "language": "python",
      "name": "python3"
    },
    "language_info": {
      "name": "python",
      "version": "3.10.13",
      "mimetype": "text/x-python",
      "codemirror_mode": {
        "name": "ipython",
        "version": 3
      },
      "pygments_lexer": "ipython3",
      "nbconvert_exporter": "python",
      "file_extension": ".py"
    },
    "kaggle": {
      "accelerator": "gpu",
      "dataSources": [
        {
          "sourceId": 7876,
          "sourceType": "datasetVersion",
          "datasetId": 5227
        }
      ],
      "dockerImageVersionId": 30732,
      "isInternetEnabled": false,
      "language": "python",
      "sourceType": "notebook",
      "isGpuEnabled": true
    },
    "colab": {
      "name": "California Houses Predictions",
      "provenance": [],
      "include_colab_link": true
    }
  },
  "nbformat_minor": 0,
  "nbformat": 4,
  "cells": [
    {
      "cell_type": "markdown",
      "metadata": {
        "id": "view-in-github",
        "colab_type": "text"
      },
      "source": [
        "<a href=\"https://colab.research.google.com/github/Shreya-i/CSS_miniproject/blob/main/California_Houses_Predictions.ipynb\" target=\"_parent\"><img src=\"https://colab.research.google.com/assets/colab-badge.svg\" alt=\"Open In Colab\"/></a>"
      ]
    },
    {
      "cell_type": "markdown",
      "source": [
        "Name:Shreya Ingle\n",
        "Roll no. : 21102A0041"
      ],
      "metadata": {
        "id": "q2PTjc59ZbNE"
      }
    },
    {
      "cell_type": "code",
      "source": [
        "import pandas as pd\n",
        "import numpy as np\n",
        "import matplotlib.pyplot as plt\n",
        "import seaborn as sns\n",
        "\n",
        "import warnings\n",
        "warnings.filterwarnings('ignore')"
      ],
      "metadata": {
        "execution": {
          "iopub.status.busy": "2024-07-10T08:17:52.536077Z",
          "iopub.execute_input": "2024-07-10T08:17:52.537061Z",
          "iopub.status.idle": "2024-07-10T08:17:54.55383Z",
          "shell.execute_reply.started": "2024-07-10T08:17:52.537018Z",
          "shell.execute_reply": "2024-07-10T08:17:54.552979Z"
        },
        "trusted": true,
        "id": "k2jUV3dgYzrd"
      },
      "execution_count": null,
      "outputs": []
    },
    {
      "cell_type": "code",
      "source": [
        "housing = pd.read_csv(r\"/kaggle/input/california-housing-prices/housing.csv\")\n",
        "housing.head(10)"
      ],
      "metadata": {
        "execution": {
          "iopub.status.busy": "2024-07-10T08:17:54.55585Z",
          "iopub.execute_input": "2024-07-10T08:17:54.556258Z",
          "iopub.status.idle": "2024-07-10T08:17:54.651403Z",
          "shell.execute_reply.started": "2024-07-10T08:17:54.556231Z",
          "shell.execute_reply": "2024-07-10T08:17:54.650483Z"
        },
        "trusted": true,
        "id": "sck0F-p7Yzre"
      },
      "execution_count": null,
      "outputs": []
    },
    {
      "cell_type": "code",
      "source": [
        "housing.info()"
      ],
      "metadata": {
        "execution": {
          "iopub.status.busy": "2024-07-10T08:17:54.652617Z",
          "iopub.execute_input": "2024-07-10T08:17:54.652869Z",
          "iopub.status.idle": "2024-07-10T08:17:54.676679Z",
          "shell.execute_reply.started": "2024-07-10T08:17:54.652847Z",
          "shell.execute_reply": "2024-07-10T08:17:54.675691Z"
        },
        "trusted": true,
        "id": "5RThC6cLYzre"
      },
      "execution_count": null,
      "outputs": []
    },
    {
      "cell_type": "code",
      "source": [
        "housing.describe()"
      ],
      "metadata": {
        "execution": {
          "iopub.status.busy": "2024-07-10T08:17:54.679378Z",
          "iopub.execute_input": "2024-07-10T08:17:54.67972Z",
          "iopub.status.idle": "2024-07-10T08:17:54.716557Z",
          "shell.execute_reply.started": "2024-07-10T08:17:54.679686Z",
          "shell.execute_reply": "2024-07-10T08:17:54.715676Z"
        },
        "trusted": true,
        "id": "uLxYYSzlYzrf"
      },
      "execution_count": null,
      "outputs": []
    },
    {
      "cell_type": "code",
      "source": [
        "housing.nunique()"
      ],
      "metadata": {
        "execution": {
          "iopub.status.busy": "2024-07-10T08:17:54.71773Z",
          "iopub.execute_input": "2024-07-10T08:17:54.718017Z",
          "iopub.status.idle": "2024-07-10T08:17:54.734446Z",
          "shell.execute_reply.started": "2024-07-10T08:17:54.717992Z",
          "shell.execute_reply": "2024-07-10T08:17:54.73349Z"
        },
        "trusted": true,
        "id": "dPFCeI-bYzrf"
      },
      "execution_count": null,
      "outputs": []
    },
    {
      "cell_type": "code",
      "source": [
        "housing.isnull().sum()"
      ],
      "metadata": {
        "execution": {
          "iopub.status.busy": "2024-07-10T08:17:54.735638Z",
          "iopub.execute_input": "2024-07-10T08:17:54.735965Z",
          "iopub.status.idle": "2024-07-10T08:17:54.746558Z",
          "shell.execute_reply.started": "2024-07-10T08:17:54.735934Z",
          "shell.execute_reply": "2024-07-10T08:17:54.745563Z"
        },
        "trusted": true,
        "id": "b_zYvQQEYzrf"
      },
      "execution_count": null,
      "outputs": []
    },
    {
      "cell_type": "code",
      "source": [
        "housing.hist(bins=50,figsize=(20,15))\n"
      ],
      "metadata": {
        "execution": {
          "iopub.status.busy": "2024-07-10T08:17:54.747862Z",
          "iopub.execute_input": "2024-07-10T08:17:54.748192Z",
          "iopub.status.idle": "2024-07-10T08:17:57.60054Z",
          "shell.execute_reply.started": "2024-07-10T08:17:54.748162Z",
          "shell.execute_reply": "2024-07-10T08:17:57.599678Z"
        },
        "trusted": true,
        "id": "MYPKehWkYzrg"
      },
      "execution_count": null,
      "outputs": []
    },
    {
      "cell_type": "code",
      "source": [
        "housing['income_category'] = pd.cut(housing['median_income'], bins = [0,1.5,3,4.5,6, np.inf], labels=[1,2,3,4,5])\n",
        "\n",
        "housing['income_category'].hist()"
      ],
      "metadata": {
        "execution": {
          "iopub.status.busy": "2024-07-10T08:17:57.601693Z",
          "iopub.execute_input": "2024-07-10T08:17:57.60204Z",
          "iopub.status.idle": "2024-07-10T08:17:57.893294Z",
          "shell.execute_reply.started": "2024-07-10T08:17:57.602008Z",
          "shell.execute_reply": "2024-07-10T08:17:57.892422Z"
        },
        "trusted": true,
        "id": "hLNt7o88Yzrh"
      },
      "execution_count": null,
      "outputs": []
    },
    {
      "cell_type": "code",
      "source": [
        "import urllib.request\n",
        "import io\n",
        "import matplotlib.image as mpimg\n",
        "\n",
        "DOWNLOAD_ROOT = \"https://raw.githubusercontent.com/ageron/handson-ml2/master/\"\n",
        "filename = \"california.png\"\n",
        "print(\"Downloading\", filename)\n",
        "url = DOWNLOAD_ROOT + \"images/end_to_end_project/\" + filename\n",
        "with urllib.request.urlopen(url) as url_request:\n",
        "    image_data = url_request.read()\n",
        "\n",
        "image_data = io.BytesIO(image_data)\n",
        "california_img = mpimg.imread(image_data, format='png')"
      ],
      "metadata": {
        "execution": {
          "iopub.status.busy": "2024-07-10T08:17:57.8945Z",
          "iopub.execute_input": "2024-07-10T08:17:57.894822Z",
          "iopub.status.idle": "2024-07-10T08:17:58.21264Z",
          "shell.execute_reply.started": "2024-07-10T08:17:57.89479Z",
          "shell.execute_reply": "2024-07-10T08:17:58.211917Z"
        },
        "trusted": true,
        "id": "DnCFGtGUYzrh"
      },
      "execution_count": null,
      "outputs": []
    },
    {
      "cell_type": "code",
      "source": [
        "ax = housing.plot(kind='scatter', x='longitude',y='latitude', figsize=(10,7),s=housing['population']/100,\n",
        "                  c='median_house_value',colorbar=False,cmap=plt.get_cmap('jet'),alpha=0.4)\n",
        "\n",
        "plt.imshow(california_img,alpha=0.8, extent=[-124.55, -113.80, 32.45, 42.05], cmap=plt.get_cmap('jet'))\n",
        "plt.xlabel('Latitude',fontsize=14)\n",
        "plt.ylabel('Longitude',fontsize=14)\n",
        "\n",
        "prices = housing[\"median_house_value\"]\n",
        "tick_values = np.linspace(prices.min(), prices.max(), 11)\n",
        "cbar = plt.colorbar(ticks=tick_values/prices.max())\n",
        "cbar.ax.set_yticklabels([\"$%dk\"%(round(v/1000)) for v in tick_values], fontsize=14)\n",
        "cbar.set_label('Median House Value', fontsize=16)\n",
        "#plt.legend(fontsize=16)"
      ],
      "metadata": {
        "execution": {
          "iopub.status.busy": "2024-07-10T08:17:58.215568Z",
          "iopub.execute_input": "2024-07-10T08:17:58.215842Z",
          "iopub.status.idle": "2024-07-10T08:17:59.354363Z",
          "shell.execute_reply.started": "2024-07-10T08:17:58.215817Z",
          "shell.execute_reply": "2024-07-10T08:17:59.353451Z"
        },
        "trusted": true,
        "id": "yjlP7gvZYzrh"
      },
      "execution_count": null,
      "outputs": []
    },
    {
      "cell_type": "code",
      "source": [
        "corr_matrix = housing.corr(numeric_only=True)\n",
        "corr_matrix['median_house_value'].sort_values(ascending=False)\n"
      ],
      "metadata": {
        "execution": {
          "iopub.status.busy": "2024-07-10T08:17:59.355576Z",
          "iopub.execute_input": "2024-07-10T08:17:59.355952Z",
          "iopub.status.idle": "2024-07-10T08:17:59.371442Z",
          "shell.execute_reply.started": "2024-07-10T08:17:59.355917Z",
          "shell.execute_reply": "2024-07-10T08:17:59.370603Z"
        },
        "trusted": true,
        "id": "MllT1Y4jYzrh"
      },
      "execution_count": null,
      "outputs": []
    },
    {
      "cell_type": "code",
      "source": [
        "sns.heatmap(corr_matrix,annot=True,cmap='Blues')"
      ],
      "metadata": {
        "execution": {
          "iopub.status.busy": "2024-07-10T08:17:59.372511Z",
          "iopub.execute_input": "2024-07-10T08:17:59.372785Z",
          "iopub.status.idle": "2024-07-10T08:17:59.979299Z",
          "shell.execute_reply.started": "2024-07-10T08:17:59.372762Z",
          "shell.execute_reply": "2024-07-10T08:17:59.978363Z"
        },
        "trusted": true,
        "id": "RzNaJWd2Yzrh"
      },
      "execution_count": null,
      "outputs": []
    },
    {
      "cell_type": "code",
      "source": [
        "housing_eda = housing.copy()"
      ],
      "metadata": {
        "execution": {
          "iopub.status.busy": "2024-07-10T08:17:59.980423Z",
          "iopub.execute_input": "2024-07-10T08:17:59.980693Z",
          "iopub.status.idle": "2024-07-10T08:17:59.985445Z",
          "shell.execute_reply.started": "2024-07-10T08:17:59.980668Z",
          "shell.execute_reply": "2024-07-10T08:17:59.984544Z"
        },
        "trusted": true,
        "id": "rfbFE-yuYzrh"
      },
      "execution_count": null,
      "outputs": []
    },
    {
      "cell_type": "code",
      "source": [
        "housing_eda['rooms_per_household'] = housing_eda['total_rooms'] / housing_eda['households']\n",
        "housing_eda['bedrooms_per_room'] = housing_eda['total_bedrooms'] / housing_eda['total_rooms']\n",
        "housing_eda['population_per_houshold'] = housing_eda['population'] / housing_eda['households']"
      ],
      "metadata": {
        "execution": {
          "iopub.status.busy": "2024-07-10T08:17:59.986616Z",
          "iopub.execute_input": "2024-07-10T08:17:59.986871Z",
          "iopub.status.idle": "2024-07-10T08:17:59.995672Z",
          "shell.execute_reply.started": "2024-07-10T08:17:59.986848Z",
          "shell.execute_reply": "2024-07-10T08:17:59.994918Z"
        },
        "trusted": true,
        "id": "edmc0RAmYzri"
      },
      "execution_count": null,
      "outputs": []
    },
    {
      "cell_type": "code",
      "source": [
        "corr_matrix = housing_eda.corr(numeric_only=True)\n",
        "corr_matrix['median_house_value'].sort_values(ascending=False)"
      ],
      "metadata": {
        "execution": {
          "iopub.status.busy": "2024-07-10T08:17:59.996645Z",
          "iopub.execute_input": "2024-07-10T08:17:59.996877Z",
          "iopub.status.idle": "2024-07-10T08:18:00.018401Z",
          "shell.execute_reply.started": "2024-07-10T08:17:59.996856Z",
          "shell.execute_reply": "2024-07-10T08:18:00.017589Z"
        },
        "trusted": true,
        "id": "H3qloBxxYzri"
      },
      "execution_count": null,
      "outputs": []
    },
    {
      "cell_type": "code",
      "source": [
        "from sklearn.model_selection import train_test_split\n",
        "\n",
        "x = housing.drop(columns='median_house_value')\n",
        "y = housing['median_house_value']\n",
        "\n",
        "X_train,X_test, Y_train, Y_test = train_test_split(x,y,test_size=0.2)"
      ],
      "metadata": {
        "execution": {
          "iopub.status.busy": "2024-07-10T08:18:00.019824Z",
          "iopub.execute_input": "2024-07-10T08:18:00.020162Z",
          "iopub.status.idle": "2024-07-10T08:18:00.150442Z",
          "shell.execute_reply.started": "2024-07-10T08:18:00.020132Z",
          "shell.execute_reply": "2024-07-10T08:18:00.149706Z"
        },
        "trusted": true,
        "id": "vF7BxuLxYzri"
      },
      "execution_count": null,
      "outputs": []
    },
    {
      "cell_type": "code",
      "source": [
        "from sklearn.base import BaseEstimator, TransformerMixin\n",
        "rooms_ix, bedrooms_ix, population_ix, households_ix = 3, 4, 5, 6\n",
        "class CombinedAttributeAdder(BaseEstimator, TransformerMixin):\n",
        "    def __init__(self, add_bedrooms_per_room=True, add_rooms_per_household=True, add_population_per_household=True):\n",
        "        self.add_bedrooms_per_room = add_bedrooms_per_room\n",
        "        self.add_rooms_per_household = add_rooms_per_household\n",
        "        self.add_population_per_household = add_population_per_household\n",
        "    def fit(self, X, y=None):\n",
        "        return self\n",
        "    def transform(self,X, y=None):\n",
        "        if self.add_bedrooms_per_room==1:\n",
        "            bedrooms_per_room=X[:, bedrooms_ix] / X[:, rooms_ix]\n",
        "            bedrooms_per_room=np.log(bedrooms_per_room+1)\n",
        "            X=np.c_[X, bedrooms_per_room]\n",
        "        if self.add_rooms_per_household==1:\n",
        "            rooms_per_household=X[:, rooms_ix] / X[:, households_ix]\n",
        "            rooms_per_household=np.log(rooms_per_household+1)\n",
        "            X=np.c_[X, rooms_per_household]\n",
        "        if self.add_population_per_household==1:\n",
        "            population_per_household=X[:, population_ix] / X[:, households_ix]\n",
        "            population_per_household=np.log(population_per_household+1)\n",
        "            X=np.c_[X, population_per_household]\n",
        "            X[rooms_ix]=np.log(X[rooms_ix]+1)\n",
        "            X[bedrooms_ix]=np.log(X[bedrooms_ix]+1)\n",
        "            X[population_ix]=np.log(X[population_ix]+1)\n",
        "            X[households_ix]=np.log(X[households_ix]+1)\n",
        "        return X"
      ],
      "metadata": {
        "execution": {
          "iopub.status.busy": "2024-07-10T08:18:00.151477Z",
          "iopub.execute_input": "2024-07-10T08:18:00.151752Z",
          "iopub.status.idle": "2024-07-10T08:18:00.162272Z",
          "shell.execute_reply.started": "2024-07-10T08:18:00.151728Z",
          "shell.execute_reply": "2024-07-10T08:18:00.161318Z"
        },
        "trusted": true,
        "id": "AwOK3rpNYzri"
      },
      "execution_count": null,
      "outputs": []
    },
    {
      "cell_type": "code",
      "source": [
        "from sklearn.impute import SimpleImputer\n",
        "from sklearn.pipeline import Pipeline\n",
        "from sklearn.preprocessing import StandardScaler\n",
        "\n",
        "num_pipeline= Pipeline([\n",
        "    ('imputer', SimpleImputer(strategy='median')),\n",
        "    ('attrib_adder', CombinedAttributeAdder(add_bedrooms_per_room=True, add_rooms_per_household=True, add_population_per_household=False)),\n",
        "    ('std_scaler', StandardScaler()),\n",
        "])"
      ],
      "metadata": {
        "execution": {
          "iopub.status.busy": "2024-07-10T08:18:00.163481Z",
          "iopub.execute_input": "2024-07-10T08:18:00.164046Z",
          "iopub.status.idle": "2024-07-10T08:18:00.288636Z",
          "shell.execute_reply.started": "2024-07-10T08:18:00.164015Z",
          "shell.execute_reply": "2024-07-10T08:18:00.287931Z"
        },
        "trusted": true,
        "id": "ROqcgPlBYzri"
      },
      "execution_count": null,
      "outputs": []
    },
    {
      "cell_type": "code",
      "source": [
        "from sklearn.preprocessing import OneHotEncoder\n",
        "from sklearn.compose import ColumnTransformer\n",
        "num_attribs = X_train.select_dtypes(include=['int64', 'float64']).columns.tolist()\n",
        "cat_attribs=['ocean_proximity']\n",
        "full_pipline=ColumnTransformer([\n",
        "    ('num', num_pipeline, num_attribs),\n",
        "    ('cat', OneHotEncoder(), cat_attribs)\n",
        "])\n",
        "processed_X_train=full_pipline.fit_transform(X_train)\n",
        "processed_X_test =full_pipline.transform(X_test)"
      ],
      "metadata": {
        "execution": {
          "iopub.status.busy": "2024-07-10T08:18:00.289592Z",
          "iopub.execute_input": "2024-07-10T08:18:00.289844Z",
          "iopub.status.idle": "2024-07-10T08:18:00.335317Z",
          "shell.execute_reply.started": "2024-07-10T08:18:00.289822Z",
          "shell.execute_reply": "2024-07-10T08:18:00.334609Z"
        },
        "trusted": true,
        "id": "YBH3pBbqYzrj"
      },
      "execution_count": null,
      "outputs": []
    },
    {
      "cell_type": "markdown",
      "source": [
        "**Linear regression**"
      ],
      "metadata": {
        "id": "51vuFuuGYzrj"
      }
    },
    {
      "cell_type": "code",
      "source": [
        "from sklearn.linear_model import LinearRegression\n",
        "from sklearn.model_selection import cross_val_score\n",
        "reg=LinearRegression()\n",
        "reg.fit(processed_X_train, Y_train)\n",
        "\n",
        "\n",
        "scores = cross_val_score(reg,processed_X_train,Y_train, scoring='neg_mean_squared_error',cv=10)\n",
        "print('cross validation scores :',np.sqrt(-scores).mean(),'\\n')"
      ],
      "metadata": {
        "execution": {
          "iopub.status.busy": "2024-07-10T08:18:00.336366Z",
          "iopub.execute_input": "2024-07-10T08:18:00.336682Z",
          "iopub.status.idle": "2024-07-10T08:18:00.657587Z",
          "shell.execute_reply.started": "2024-07-10T08:18:00.336652Z",
          "shell.execute_reply": "2024-07-10T08:18:00.656643Z"
        },
        "trusted": true,
        "id": "wrkBBzjwYzrj"
      },
      "execution_count": null,
      "outputs": []
    },
    {
      "cell_type": "code",
      "source": [
        "from sklearn.metrics import accuracy_score\n",
        "\n",
        "train_score = reg.score(processed_X_train,Y_train)\n",
        "test_score = reg.score(processed_X_test,Y_test)\n",
        "\n",
        "print('Linear regression score: \\n')\n",
        "print('Train score : ',round(train_score*100),'%')\n",
        "print('Test score : ',round(test_score*100),'%')"
      ],
      "metadata": {
        "execution": {
          "iopub.status.busy": "2024-07-10T08:25:49.926447Z",
          "iopub.execute_input": "2024-07-10T08:25:49.927121Z",
          "iopub.status.idle": "2024-07-10T08:25:49.938974Z",
          "shell.execute_reply.started": "2024-07-10T08:25:49.927089Z",
          "shell.execute_reply": "2024-07-10T08:25:49.93771Z"
        },
        "trusted": true,
        "id": "Q-JMpSj4Yzrj"
      },
      "execution_count": null,
      "outputs": []
    }
  ]
}